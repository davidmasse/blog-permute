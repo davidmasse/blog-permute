{
 "cells": [
  {
   "cell_type": "code",
   "execution_count": null,
   "metadata": {},
   "outputs": [],
   "source": [
    "import math\n",
    "from timeit import default_timer as timer"
   ]
  },
  {
   "cell_type": "markdown",
   "metadata": {},
   "source": [
    "## Below it is shown that memoizing does not speed up the process of generating permutations recursively"
   ]
  },
  {
   "cell_type": "code",
   "execution_count": null,
   "metadata": {},
   "outputs": [],
   "source": [
    "def memoize(f):\n",
    "    memo = {}\n",
    "    def helper(x):\n",
    "        if x not in memo:            \n",
    "            memo[x] = f(x)\n",
    "        return memo[x]\n",
    "    return helper"
   ]
  },
  {
   "cell_type": "code",
   "execution_count": null,
   "metadata": {},
   "outputs": [],
   "source": [
    "def permute(orig_str, current_str = ''):\n",
    "    diff = set(orig_str) - set(current_str)\n",
    "    calls.append(1)\n",
    "    if len(diff) == 0:\n",
    "        permutations.append(current_str)\n",
    "    else:\n",
    "        for char in diff:\n",
    "            permute(orig_str, current_str + char)\n",
    "    return (calls, permutations)"
   ]
  },
  {
   "cell_type": "markdown",
   "metadata": {},
   "source": [
    "## Using `permute` directly (no memoizaition)"
   ]
  },
  {
   "cell_type": "code",
   "execution_count": null,
   "metadata": {},
   "outputs": [],
   "source": [
    "calls = []\n",
    "permutations = []\n",
    "string_to_permute = 'ABCDE'\n",
    "start = timer()\n",
    "permute(string_to_permute)\n",
    "end = timer()\n",
    "time_reg = end - start\n",
    "print('time: ', time_reg)\n",
    "print('number of function calls, including the initial call: ', sum(calls))\n",
    "print('number of permutations: ', len(permutations))\n",
    "print('tree nodes / leaves: ', sum(calls)/len(permutations))\n",
    "print('sorted permutations: ', sorted(permutations))"
   ]
  },
  {
   "cell_type": "markdown",
   "metadata": {},
   "source": [
    "## Using memoization"
   ]
  },
  {
   "cell_type": "code",
   "execution_count": null,
   "metadata": {},
   "outputs": [],
   "source": [
    "perm = memoize(permute)"
   ]
  },
  {
   "cell_type": "code",
   "execution_count": null,
   "metadata": {},
   "outputs": [],
   "source": [
    "calls = []\n",
    "permutations = []\n",
    "string_to_permute = 'ABCDE'\n",
    "start = timer()\n",
    "perm(string_to_permute)\n",
    "end = timer()\n",
    "time_mem = end - start\n",
    "print('time: ', time_mem)\n",
    "print('number of function calls, including the initial call: ', sum(calls))\n",
    "print('number of permutations: ', len(permutations))\n",
    "print('tree nodes / leaves: ', sum(calls)/len(permutations))\n",
    "print('sorted permutations: ', sorted(permutations))"
   ]
  },
  {
   "cell_type": "code",
   "execution_count": null,
   "metadata": {
    "scrolled": true
   },
   "outputs": [],
   "source": [
    "percent_diff = (time_mem - time_reg)/time_reg"
   ]
  },
  {
   "cell_type": "code",
   "execution_count": null,
   "metadata": {},
   "outputs": [],
   "source": [
    "print('speed edge (negative) or disadvantage (posistive) from memoization: ', round(percent_diff * 100, 1), '%')"
   ]
  },
  {
   "cell_type": "markdown",
   "metadata": {},
   "source": [
    "## Permute strings that may include multiple instances of one or more character(s)"
   ]
  },
  {
   "cell_type": "code",
   "execution_count": null,
   "metadata": {},
   "outputs": [],
   "source": [
    "def permute_core(orig_str, current_inds = []):\n",
    "    calls.append(1)\n",
    "    diff = set(inds) - set(current_inds)\n",
    "    if diff == set():\n",
    "        new_str = ''\n",
    "        for ind in current_inds:\n",
    "            new_str += orig_str[ind]\n",
    "        permutations.append(new_str)\n",
    "    else:\n",
    "        for num in diff:\n",
    "            permute_core(orig_str, current_inds + [num]) "
   ]
  },
  {
   "cell_type": "code",
   "execution_count": null,
   "metadata": {
    "scrolled": true
   },
   "outputs": [],
   "source": [
    "calls = []\n",
    "permutations = []\n",
    "string_to_permute = 'ABCDE'\n",
    "inds = set(list(range(len(string_to_permute))))\n",
    "start = timer()\n",
    "permute_core(string_to_permute)\n",
    "end = timer()\n",
    "time_reg = end - start\n",
    "print('time: ', time_reg)\n",
    "print('number of function calls, including the initial call: ', sum(calls))\n",
    "print('number of permutations including repeats due to characters that show up more than once in the original string: ', \n",
    "      len(permutations))\n",
    "print('number of unique permutations: ', len(set(permutations)))\n",
    "print('tree nodes / leaves: ', sum(calls)/len(permutations))\n",
    "# print('unique permutations: ', sorted(list(set(permutations))))"
   ]
  },
  {
   "cell_type": "code",
   "execution_count": null,
   "metadata": {},
   "outputs": [],
   "source": []
  }
 ],
 "metadata": {
  "kernelspec": {
   "display_name": "Python 3",
   "language": "python",
   "name": "python3"
  },
  "language_info": {
   "codemirror_mode": {
    "name": "ipython",
    "version": 3
   },
   "file_extension": ".py",
   "mimetype": "text/x-python",
   "name": "python",
   "nbconvert_exporter": "python",
   "pygments_lexer": "ipython3",
   "version": "3.6.5"
  }
 },
 "nbformat": 4,
 "nbformat_minor": 2
}
