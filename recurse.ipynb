{
 "cells": [
  {
   "cell_type": "code",
   "execution_count": 1,
   "metadata": {},
   "outputs": [],
   "source": [
    "import math\n",
    "from timeit import default_timer as timer"
   ]
  },
  {
   "cell_type": "markdown",
   "metadata": {},
   "source": [
    "## Below it is shown that memoizing does not speed up the process of generating permutations recursively"
   ]
  },
  {
   "cell_type": "code",
   "execution_count": 2,
   "metadata": {},
   "outputs": [],
   "source": [
    "def memoize(f):\n",
    "    memo = {}\n",
    "    def helper(x):\n",
    "        if x not in memo:            \n",
    "            memo[x] = f(x)\n",
    "        return memo[x]\n",
    "    return helper"
   ]
  },
  {
   "cell_type": "code",
   "execution_count": 3,
   "metadata": {},
   "outputs": [],
   "source": [
    "def permute(orig_str, current_str = ''):\n",
    "    diff = set(orig_str) - set(current_str)\n",
    "    calls.append(1)\n",
    "    if len(diff) == 0:\n",
    "        permutations.append(current_str)\n",
    "    else:\n",
    "        for char in diff:\n",
    "            permute(orig_str, current_str + char)\n",
    "    return (calls, permutations)"
   ]
  },
  {
   "cell_type": "markdown",
   "metadata": {},
   "source": [
    "## Using `permute` directly (no memoizaition)"
   ]
  },
  {
   "cell_type": "code",
   "execution_count": 11,
   "metadata": {},
   "outputs": [
    {
     "name": "stdout",
     "output_type": "stream",
     "text": [
      "time:  0.0010729440000432078\n",
      "number of function calls, including the initial call:  326\n",
      "number of permutations:  120\n",
      "tree nodes / leaves:  2.716666666666667\n",
      "sorted permutations:  ['ABCDE', 'ABCED', 'ABDCE', 'ABDEC', 'ABECD', 'ABEDC', 'ACBDE', 'ACBED', 'ACDBE', 'ACDEB', 'ACEBD', 'ACEDB', 'ADBCE', 'ADBEC', 'ADCBE', 'ADCEB', 'ADEBC', 'ADECB', 'AEBCD', 'AEBDC', 'AECBD', 'AECDB', 'AEDBC', 'AEDCB', 'BACDE', 'BACED', 'BADCE', 'BADEC', 'BAECD', 'BAEDC', 'BCADE', 'BCAED', 'BCDAE', 'BCDEA', 'BCEAD', 'BCEDA', 'BDACE', 'BDAEC', 'BDCAE', 'BDCEA', 'BDEAC', 'BDECA', 'BEACD', 'BEADC', 'BECAD', 'BECDA', 'BEDAC', 'BEDCA', 'CABDE', 'CABED', 'CADBE', 'CADEB', 'CAEBD', 'CAEDB', 'CBADE', 'CBAED', 'CBDAE', 'CBDEA', 'CBEAD', 'CBEDA', 'CDABE', 'CDAEB', 'CDBAE', 'CDBEA', 'CDEAB', 'CDEBA', 'CEABD', 'CEADB', 'CEBAD', 'CEBDA', 'CEDAB', 'CEDBA', 'DABCE', 'DABEC', 'DACBE', 'DACEB', 'DAEBC', 'DAECB', 'DBACE', 'DBAEC', 'DBCAE', 'DBCEA', 'DBEAC', 'DBECA', 'DCABE', 'DCAEB', 'DCBAE', 'DCBEA', 'DCEAB', 'DCEBA', 'DEABC', 'DEACB', 'DEBAC', 'DEBCA', 'DECAB', 'DECBA', 'EABCD', 'EABDC', 'EACBD', 'EACDB', 'EADBC', 'EADCB', 'EBACD', 'EBADC', 'EBCAD', 'EBCDA', 'EBDAC', 'EBDCA', 'ECABD', 'ECADB', 'ECBAD', 'ECBDA', 'ECDAB', 'ECDBA', 'EDABC', 'EDACB', 'EDBAC', 'EDBCA', 'EDCAB', 'EDCBA']\n"
     ]
    }
   ],
   "source": [
    "calls = []\n",
    "permutations = []\n",
    "string_to_permute = 'ABCDE'\n",
    "inds = set(list(range(len(string_to_permute))))\n",
    "start = timer()\n",
    "permute(string_to_permute)\n",
    "end = timer()\n",
    "time_reg = end - start\n",
    "print('time: ', time_reg)\n",
    "print('number of function calls, including the initial call: ', sum(calls))\n",
    "print('number of permutations: ', len(permutations))\n",
    "print('tree nodes / leaves: ', sum(calls)/len(permutations))\n",
    "print('sorted permutations: ', sorted(permutations))"
   ]
  },
  {
   "cell_type": "markdown",
   "metadata": {},
   "source": [
    "## Using memoization"
   ]
  },
  {
   "cell_type": "code",
   "execution_count": 5,
   "metadata": {},
   "outputs": [],
   "source": [
    "perm = memoize(permute)"
   ]
  },
  {
   "cell_type": "code",
   "execution_count": 6,
   "metadata": {},
   "outputs": [
    {
     "name": "stdout",
     "output_type": "stream",
     "text": [
      "time:  0.0013807069990434684\n",
      "number of function calls, including the initial call:  326\n",
      "number of permutations:  120\n",
      "tree nodes / leaves:  2.716666666666667\n",
      "sorted permutations:  ['abcde', 'abced', 'abdce', 'abdec', 'abecd', 'abedc', 'acbde', 'acbed', 'acdbe', 'acdeb', 'acebd', 'acedb', 'adbce', 'adbec', 'adcbe', 'adceb', 'adebc', 'adecb', 'aebcd', 'aebdc', 'aecbd', 'aecdb', 'aedbc', 'aedcb', 'bacde', 'baced', 'badce', 'badec', 'baecd', 'baedc', 'bcade', 'bcaed', 'bcdae', 'bcdea', 'bcead', 'bceda', 'bdace', 'bdaec', 'bdcae', 'bdcea', 'bdeac', 'bdeca', 'beacd', 'beadc', 'becad', 'becda', 'bedac', 'bedca', 'cabde', 'cabed', 'cadbe', 'cadeb', 'caebd', 'caedb', 'cbade', 'cbaed', 'cbdae', 'cbdea', 'cbead', 'cbeda', 'cdabe', 'cdaeb', 'cdbae', 'cdbea', 'cdeab', 'cdeba', 'ceabd', 'ceadb', 'cebad', 'cebda', 'cedab', 'cedba', 'dabce', 'dabec', 'dacbe', 'daceb', 'daebc', 'daecb', 'dbace', 'dbaec', 'dbcae', 'dbcea', 'dbeac', 'dbeca', 'dcabe', 'dcaeb', 'dcbae', 'dcbea', 'dceab', 'dceba', 'deabc', 'deacb', 'debac', 'debca', 'decab', 'decba', 'eabcd', 'eabdc', 'eacbd', 'eacdb', 'eadbc', 'eadcb', 'ebacd', 'ebadc', 'ebcad', 'ebcda', 'ebdac', 'ebdca', 'ecabd', 'ecadb', 'ecbad', 'ecbda', 'ecdab', 'ecdba', 'edabc', 'edacb', 'edbac', 'edbca', 'edcab', 'edcba']\n"
     ]
    }
   ],
   "source": [
    "calls = []\n",
    "permutations = []\n",
    "string_to_permute = 'abcde'\n",
    "inds = set(list(range(len(string_to_permute))))\n",
    "start = timer()\n",
    "perm(string_to_permute)\n",
    "end = timer()\n",
    "time_mem = end - start\n",
    "print('time: ', time_mem)\n",
    "print('number of function calls, including the initial call: ', sum(calls))\n",
    "print('number of permutations: ', len(permutations))\n",
    "print('tree nodes / leaves: ', sum(calls)/len(permutations))\n",
    "print('sorted permutations: ', sorted(permutations))"
   ]
  },
  {
   "cell_type": "code",
   "execution_count": 7,
   "metadata": {
    "scrolled": true
   },
   "outputs": [],
   "source": [
    "percent_diff = (time_mem - time_reg)/time_reg"
   ]
  },
  {
   "cell_type": "code",
   "execution_count": 8,
   "metadata": {},
   "outputs": [
    {
     "name": "stdout",
     "output_type": "stream",
     "text": [
      "speed edge (negative) or disadvantage (posistive) from memoization:  200.7 %\n"
     ]
    }
   ],
   "source": [
    "print('speed edge (negative) or disadvantage (posistive) from memoization: ', round(percent_diff * 100, 1), '%')"
   ]
  },
  {
   "cell_type": "markdown",
   "metadata": {},
   "source": [
    "## Permute strings that may include multiple instances of one or more character(s)"
   ]
  },
  {
   "cell_type": "code",
   "execution_count": 9,
   "metadata": {},
   "outputs": [],
   "source": [
    "def permute_core(orig_str, current_inds = []):\n",
    "    calls.append(1)\n",
    "    diff = set(inds) - set(current_inds)\n",
    "    if diff == set():\n",
    "        new_str = ''\n",
    "        for ind in current_inds:\n",
    "            new_str += orig_str[ind]\n",
    "        permutations.append(new_str)\n",
    "    else:\n",
    "        for num in diff:\n",
    "            permute_core(orig_str, current_inds + [num]) "
   ]
  },
  {
   "cell_type": "code",
   "execution_count": 10,
   "metadata": {
    "scrolled": true
   },
   "outputs": [
    {
     "name": "stdout",
     "output_type": "stream",
     "text": [
      "time:  0.18636022500140825\n",
      "number of function calls, including the initial call:  109601\n",
      "number of permutations including repeats due to characters that show up more than once in the original string:  40320\n",
      "number of unique permutations:  40320\n",
      "tree nodes / leaves:  2.71827876984127\n"
     ]
    }
   ],
   "source": [
    "calls = []\n",
    "permutations = []\n",
    "string_to_permute = 'abcdefgh'\n",
    "inds = set(list(range(len(string_to_permute))))\n",
    "start = timer()\n",
    "permute_core(string_to_permute)\n",
    "end = timer()\n",
    "time_reg = end - start\n",
    "print('time: ', time_reg)\n",
    "print('number of function calls, including the initial call: ', sum(calls))\n",
    "print('number of permutations including repeats due to characters that show up more than once in the original string: ', \n",
    "      len(permutations))\n",
    "print('number of unique permutations: ', len(set(permutations)))\n",
    "print('tree nodes / leaves: ', sum(calls)/len(permutations))\n",
    "# print('unique permutations: ', sorted(list(set(permutations))))"
   ]
  },
  {
   "cell_type": "code",
   "execution_count": null,
   "metadata": {},
   "outputs": [],
   "source": []
  }
 ],
 "metadata": {
  "kernelspec": {
   "display_name": "Python 3",
   "language": "python",
   "name": "python3"
  },
  "language_info": {
   "codemirror_mode": {
    "name": "ipython",
    "version": 3
   },
   "file_extension": ".py",
   "mimetype": "text/x-python",
   "name": "python",
   "nbconvert_exporter": "python",
   "pygments_lexer": "ipython3",
   "version": "3.6.5"
  }
 },
 "nbformat": 4,
 "nbformat_minor": 2
}
